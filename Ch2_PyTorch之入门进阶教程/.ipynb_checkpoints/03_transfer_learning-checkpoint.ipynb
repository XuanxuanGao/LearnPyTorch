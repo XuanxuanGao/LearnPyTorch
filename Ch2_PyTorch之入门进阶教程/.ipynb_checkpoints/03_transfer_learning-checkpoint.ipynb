{
 "cells": [
  {
   "cell_type": "markdown",
   "metadata": {},
   "source": [
    "# 学习迁移学习的两个场景\n",
    "- 微调：使用预训练的网络来初始化网络，其它训练步骤不变\n",
    "- 特征提取：固定除了最后的全连接层外的其他所有层，随机初始化并训练最后的全连接层"
   ]
  },
  {
   "cell_type": "code",
   "execution_count": null,
   "metadata": {},
   "outputs": [],
   "source": []
  }
 ],
 "metadata": {
  "kernelspec": {
   "display_name": "Python 3",
   "language": "python",
   "name": "python3"
  },
  "language_info": {
   "codemirror_mode": {
    "name": "ipython",
    "version": 3
   },
   "file_extension": ".py",
   "mimetype": "text/x-python",
   "name": "python",
   "nbconvert_exporter": "python",
   "pygments_lexer": "ipython3",
   "version": "3.6.2"
  }
 },
 "nbformat": 4,
 "nbformat_minor": 4
}
