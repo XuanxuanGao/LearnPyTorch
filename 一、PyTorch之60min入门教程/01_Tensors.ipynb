{
 "cells": [
  {
   "cell_type": "markdown",
   "metadata": {},
   "source": [
    "# Tensors\n",
    "介绍pytorch tensor的创建、属性、操作。"
   ]
  },
  {
   "cell_type": "code",
   "execution_count": 1,
   "metadata": {},
   "outputs": [],
   "source": [
    "import torch"
   ]
  },
  {
   "cell_type": "markdown",
   "metadata": {},
   "source": [
    "## 创建tensor"
   ]
  },
  {
   "cell_type": "code",
   "execution_count": 3,
   "metadata": {},
   "outputs": [
    {
     "name": "stdout",
     "output_type": "stream",
     "text": [
      "tensor([[1.8217e-44, 0.0000e+00, 0.0000e+00],\n",
      "        [0.0000e+00, 0.0000e+00, 0.0000e+00],\n",
      "        [0.0000e+00, 0.0000e+00, 0.0000e+00],\n",
      "        [0.0000e+00, 0.0000e+00, 0.0000e+00],\n",
      "        [0.0000e+00, 0.0000e+00, 0.0000e+00]])\n"
     ]
    }
   ],
   "source": [
    "#构造一个5x3矩阵，不初始化。\n",
    "x = torch.empty(5, 3)\n",
    "print(x)"
   ]
  },
  {
   "cell_type": "code",
   "execution_count": 4,
   "metadata": {},
   "outputs": [
    {
     "name": "stdout",
     "output_type": "stream",
     "text": [
      "tensor([[0.6811, 0.1870, 0.9830],\n",
      "        [0.4635, 0.4734, 0.3115],\n",
      "        [0.8078, 0.9922, 0.3848],\n",
      "        [0.5575, 0.6739, 0.0428],\n",
      "        [0.6558, 0.5852, 0.2525]])\n"
     ]
    }
   ],
   "source": [
    "#构造一个随机初始化的矩阵\n",
    "x = torch.rand(5, 3)\n",
    "print(x)"
   ]
  },
  {
   "cell_type": "code",
   "execution_count": 6,
   "metadata": {},
   "outputs": [
    {
     "name": "stdout",
     "output_type": "stream",
     "text": [
      "tensor([[0, 0, 0],\n",
      "        [0, 0, 0],\n",
      "        [0, 0, 0],\n",
      "        [0, 0, 0],\n",
      "        [0, 0, 0]])\n"
     ]
    }
   ],
   "source": [
    "#构造一个矩阵全为 0，而且数据类型是 long.\n",
    "x = torch.zeros(5, 3, dtype=torch.long)\n",
    "print(x)"
   ]
  },
  {
   "cell_type": "code",
   "execution_count": 7,
   "metadata": {},
   "outputs": [
    {
     "name": "stdout",
     "output_type": "stream",
     "text": [
      "tensor([5.5000, 3.0000])\n"
     ]
    }
   ],
   "source": [
    "#直接使用数据构造一个tensor\n",
    "x = torch.tensor([5.5, 3])\n",
    "print(x)"
   ]
  },
  {
   "cell_type": "code",
   "execution_count": 8,
   "metadata": {},
   "outputs": [
    {
     "name": "stdout",
     "output_type": "stream",
     "text": [
      "tensor([[1., 1., 1.],\n",
      "        [1., 1., 1.],\n",
      "        [1., 1., 1.],\n",
      "        [1., 1., 1.],\n",
      "        [1., 1., 1.]], dtype=torch.float64)\n",
      "tensor([[ 0.4215,  0.6465,  0.4875],\n",
      "        [-1.2901, -1.4034, -0.8658],\n",
      "        [-0.8445,  0.4405,  1.6135],\n",
      "        [-0.9587,  0.6148,  0.9235],\n",
      "        [-0.4390,  1.6723, -1.2301]])\n"
     ]
    }
   ],
   "source": [
    "#直接使用已经存在的tensor构造一个tensor\n",
    "x = x.new_ones(5, 3, dtype=torch.double)\n",
    "print(x)\n",
    "x = torch.randn_like(x, dtype=torch.float)\n",
    "print(x)"
   ]
  },
  {
   "cell_type": "markdown",
   "metadata": {},
   "source": [
    "## tensor的属性"
   ]
  },
  {
   "cell_type": "code",
   "execution_count": 18,
   "metadata": {},
   "outputs": [
    {
     "name": "stdout",
     "output_type": "stream",
     "text": [
      "torch.Size([4, 4])\n",
      "4\n"
     ]
    }
   ],
   "source": [
    "# 获取tensor的维度信息\n",
    "print(x.size())\n",
    "print(x.size()[0])"
   ]
  },
  {
   "cell_type": "code",
   "execution_count": 19,
   "metadata": {},
   "outputs": [
    {
     "name": "stdout",
     "output_type": "stream",
     "text": [
      "tensor([0.2679])\n",
      "0.2678762376308441\n"
     ]
    }
   ],
   "source": [
    "# 获取单元素tensor的值\n",
    "x = torch.randn(1)\n",
    "print(x)\n",
    "print(x.item())"
   ]
  },
  {
   "cell_type": "markdown",
   "metadata": {},
   "source": [
    "## tensor的操作"
   ]
  },
  {
   "cell_type": "markdown",
   "metadata": {},
   "source": [
    "### 加法"
   ]
  },
  {
   "cell_type": "code",
   "execution_count": 11,
   "metadata": {},
   "outputs": [
    {
     "name": "stdout",
     "output_type": "stream",
     "text": [
      "tensor([[ 0.6409,  1.3711,  1.0766],\n",
      "        [-0.5459, -0.5844, -0.7473],\n",
      "        [-0.6852,  0.9211,  2.1365],\n",
      "        [-0.0299,  1.5463,  1.0052],\n",
      "        [-0.1544,  2.4106, -0.7689]])\n",
      "tensor([[ 0.6409,  1.3711,  1.0766],\n",
      "        [-0.5459, -0.5844, -0.7473],\n",
      "        [-0.6852,  0.9211,  2.1365],\n",
      "        [-0.0299,  1.5463,  1.0052],\n",
      "        [-0.1544,  2.4106, -0.7689]])\n",
      "tensor([[ 0.6409,  1.3711,  1.0766],\n",
      "        [-0.5459, -0.5844, -0.7473],\n",
      "        [-0.6852,  0.9211,  2.1365],\n",
      "        [-0.0299,  1.5463,  1.0052],\n",
      "        [-0.1544,  2.4106, -0.7689]])\n",
      "tensor([[ 0.6409,  1.3711,  1.0766],\n",
      "        [-0.5459, -0.5844, -0.7473],\n",
      "        [-0.6852,  0.9211,  2.1365],\n",
      "        [-0.0299,  1.5463,  1.0052],\n",
      "        [-0.1544,  2.4106, -0.7689]])\n"
     ]
    }
   ],
   "source": [
    "# 方法1\n",
    "y = torch.rand(5,3)\n",
    "z = x + y\n",
    "print(z)\n",
    "\n",
    "# 方法2\n",
    "z = torch.add(x, y)\n",
    "print(z)\n",
    "\n",
    "# 方法3\n",
    "z = torch.empty(5, 3)\n",
    "torch.add(x, y, out=z)\n",
    "print(z)\n",
    "\n",
    "# 方法4\n",
    "y.add_(x) #改变了y\n",
    "print(y)"
   ]
  },
  {
   "cell_type": "markdown",
   "metadata": {},
   "source": [
    "### 索引"
   ]
  },
  {
   "cell_type": "code",
   "execution_count": 12,
   "metadata": {},
   "outputs": [
    {
     "name": "stdout",
     "output_type": "stream",
     "text": [
      "tensor([ 0.6465, -1.4034,  0.4405,  0.6148,  1.6723])\n"
     ]
    }
   ],
   "source": [
    "# 可以使用标准的 NumPy 类似的索引操作\n",
    "print(x[:, 1])"
   ]
  },
  {
   "cell_type": "markdown",
   "metadata": {},
   "source": [
    "### reshape用view"
   ]
  },
  {
   "cell_type": "code",
   "execution_count": 13,
   "metadata": {},
   "outputs": [
    {
     "name": "stdout",
     "output_type": "stream",
     "text": [
      "torch.Size([4, 4]) torch.Size([16]) torch.Size([2, 8])\n"
     ]
    }
   ],
   "source": [
    "x = torch.randn(4, 4)\n",
    "y = x.view(16)\n",
    "z = x.view(-1, 8)\n",
    "print(x.size(), y.size(), z.size())"
   ]
  },
  {
   "cell_type": "code",
   "execution_count": 15,
   "metadata": {},
   "outputs": [
    {
     "name": "stdout",
     "output_type": "stream",
     "text": [
      "tensor([[ 1.1200,  1.2088,  0.1454, -0.1616],\n",
      "        [ 3.2046, -1.1155, -0.1401,  0.6121],\n",
      "        [-1.7779,  0.3187, -2.5612, -1.8333],\n",
      "        [ 1.2015,  0.4602,  0.0570,  0.8205]])\n"
     ]
    }
   ],
   "source": [
    "print(x)"
   ]
  },
  {
   "cell_type": "code",
   "execution_count": 16,
   "metadata": {},
   "outputs": [
    {
     "name": "stdout",
     "output_type": "stream",
     "text": [
      "tensor(1.1200)\n"
     ]
    }
   ],
   "source": [
    "print(x[0, 0])"
   ]
  },
  {
   "cell_type": "code",
   "execution_count": 17,
   "metadata": {},
   "outputs": [
    {
     "name": "stdout",
     "output_type": "stream",
     "text": [
      "1.1199657917022705\n"
     ]
    }
   ],
   "source": [
    "print(x[0][0].item())"
   ]
  },
  {
   "cell_type": "code",
   "execution_count": null,
   "metadata": {},
   "outputs": [],
   "source": []
  }
 ],
 "metadata": {
  "kernelspec": {
   "display_name": "Python 3",
   "language": "python",
   "name": "python3"
  },
  "language_info": {
   "codemirror_mode": {
    "name": "ipython",
    "version": 3
   },
   "file_extension": ".py",
   "mimetype": "text/x-python",
   "name": "python",
   "nbconvert_exporter": "python",
   "pygments_lexer": "ipython3",
   "version": "3.6.2"
  }
 },
 "nbformat": 4,
 "nbformat_minor": 4
}
